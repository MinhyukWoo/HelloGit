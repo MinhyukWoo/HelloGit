{
  "nbformat": 4,
  "nbformat_minor": 0,
  "metadata": {
    "colab": {
      "name": "HelloColab.ipynb",
      "provenance": [],
      "authorship_tag": "ABX9TyMpTvmaKODb2A9ccp9PAR3H",
      "include_colab_link": true
    },
    "kernelspec": {
      "name": "python3",
      "display_name": "Python 3"
    },
    "language_info": {
      "name": "python"
    }
  },
  "cells": [
    {
      "cell_type": "markdown",
      "metadata": {
        "id": "view-in-github",
        "colab_type": "text"
      },
      "source": [
        "<a href=\"https://colab.research.google.com/github/MinhyukWoo/HelloGit/blob/master/2022/%EC%9A%B0%EB%AF%BC%ED%98%81/HelloColab.ipynb\" target=\"_parent\"><img src=\"https://colab.research.google.com/assets/colab-badge.svg\" alt=\"Open In Colab\"/></a>"
      ]
    },
    {
      "cell_type": "code",
      "execution_count": 2,
      "metadata": {
        "id": "ddB1Ii1T-gRs",
        "colab": {
          "base_uri": "https://localhost:8080/"
        },
        "outputId": "4d63605f-5d52-4ed5-c6b9-d0abe39eee9e"
      },
      "outputs": [
        {
          "output_type": "stream",
          "name": "stdout",
          "text": [
            "Hello Colab!\n"
          ]
        }
      ],
      "source": [
        "out_str = 'Hello Colab!'\n",
        "print(out_str)"
      ]
    }
  ]
}